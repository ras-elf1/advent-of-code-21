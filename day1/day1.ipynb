{
 "cells": [
  {
   "cell_type": "markdown",
   "id": "752e79fb",
   "metadata": {},
   "source": [
    "How many measurements are larger than the previous measurement?"
   ]
  },
  {
   "cell_type": "code",
   "execution_count": null,
   "id": "73ead89f",
   "metadata": {},
   "outputs": [],
   "source": [
    "changes_test = [199, 200, 208, 210, 200, 207, 240, 269, 260, 263]"
   ]
  },
  {
   "cell_type": "code",
   "execution_count": null,
   "id": "71ba7d61",
   "metadata": {},
   "outputs": [],
   "source": [
    "def count_p1(list):\n",
    "    a = 0\n",
    "    for i in range(len(list)-1):\n",
    "        if list[i]<list[i+1]:\n",
    "            a += 1\n",
    "    return a"
   ]
  },
  {
   "cell_type": "code",
   "execution_count": null,
   "id": "1c15c7b2",
   "metadata": {},
   "outputs": [],
   "source": [
    "count_p1(changes_test)"
   ]
  },
  {
   "cell_type": "code",
   "execution_count": null,
   "id": "72a7e82a",
   "metadata": {},
   "outputs": [],
   "source": [
    "with open(r\"\\Users\\flesc\\Projects\\advent-of-code-21\\day1\\input.txt\", \"r\") as f:\n",
    "    changes = f.read().splitlines()\n",
    "changes = [int(i) for i in changes]"
   ]
  },
  {
   "cell_type": "code",
   "execution_count": null,
   "id": "63142455",
   "metadata": {},
   "outputs": [],
   "source": [
    "count_p1(changes)"
   ]
  },
  {
   "cell_type": "code",
   "execution_count": null,
   "id": "011bbf9b",
   "metadata": {},
   "outputs": [],
   "source": [
    "def count_p2(list):\n",
    "    b = []\n",
    "    for i in range(len(list)-2):\n",
    "        sum = list[i] + list[i+1] + list[i+2]\n",
    "        b.append(sum)\n",
    "    return b"
   ]
  },
  {
   "cell_type": "code",
   "execution_count": null,
   "id": "2fae2a5e",
   "metadata": {},
   "outputs": [],
   "source": [
    "triple = count_p2(changes)"
   ]
  },
  {
   "cell_type": "code",
   "execution_count": null,
   "id": "14c8235e",
   "metadata": {},
   "outputs": [],
   "source": [
    "count_p1(triple)"
   ]
  },
  {
   "cell_type": "code",
   "execution_count": null,
   "id": "6b4e0df8",
   "metadata": {},
   "outputs": [],
   "source": []
  }
 ],
 "metadata": {
  "kernelspec": {
   "display_name": "Python 3 (ipykernel)",
   "language": "python",
   "name": "python3"
  },
  "language_info": {
   "codemirror_mode": {
    "name": "ipython",
    "version": 3
   },
   "file_extension": ".py",
   "mimetype": "text/x-python",
   "name": "python",
   "nbconvert_exporter": "python",
   "pygments_lexer": "ipython3",
   "version": "3.9.7"
  }
 },
 "nbformat": 4,
 "nbformat_minor": 5
}
